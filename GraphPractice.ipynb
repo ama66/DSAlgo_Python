{
 "cells": [
  {
   "cell_type": "code",
   "execution_count": 21,
   "id": "8eec79cb-a61e-4072-9724-b99929cee024",
   "metadata": {},
   "outputs": [],
   "source": [
    "from collections import deque"
   ]
  },
  {
   "cell_type": "code",
   "execution_count": 48,
   "id": "ef0b4cbf-fd8c-4e60-9316-5eec31587f21",
   "metadata": {},
   "outputs": [],
   "source": [
    "class Graph:\n",
    "    def __init__(self):\n",
    "        # Initialize an empty dictionary to store the adjacency list.\n",
    "        self.adjacency_list = {}\n",
    "\n",
    "    def add_node(self, node):\n",
    "        # Add a new node to the graph.\n",
    "        if node not in self.adjacency_list:\n",
    "            self.adjacency_list[node] = []\n",
    "\n",
    "    def add_edge(self, node1, node2):\n",
    "        # Add an undirected edge between node1 and node2.\n",
    "        self.adjacency_list[node1].append(node2)\n",
    "        self.adjacency_list[node2].append(node1)\n",
    "\n",
    "    def remove_edge(self, node1, node2):\n",
    "        if node1 in self.adjacency_list and node2 in self.adjacency_list:\n",
    "            self.adjacency_list[node1].remove(node2)\n",
    "            self.adjacency_list[node2].remove(node1)\n",
    "\n",
    "    def remove_node(self, node):\n",
    "        if node in self.adjacency_list:\n",
    "            # Remove the node from the adjacency lists of its neighbors.\n",
    "            for neighbor in self.adjacency_list[node]:\n",
    "                self.adjacency_list[neighbor].remove(node)\n",
    "            # Remove the node itself.\n",
    "            del self.adjacency_list[node]\n",
    "    def has_edge(self, node1, node2):\n",
    "        # Implement this function\n",
    "        return node1 in self.adjacency_list[node2] and node2 in self.adjacency_list[node1]\n",
    "\n",
    "    def display(self):\n",
    "        # Display the adjacency list representation of the graph.\n",
    "        for node, neighbors in self.adjacency_list.items():\n",
    "            print(f\"{node}: {neighbors}\")\n",
    "    @staticmethod\n",
    "    def bfs_traverse(graph, start):\n",
    "        visited=set()\n",
    "        queue=deque([start])\n",
    "\n",
    "        visited.add(start)\n",
    "        \n",
    "        while queue:\n",
    "            current_vertex=queue.popleft()\n",
    "            print(current_vertex,end='')\n",
    "            print()\n",
    "\n",
    "            for neighbor in graph.adjacency_list[current_vertex]:\n",
    "                if neighbor not in visited:\n",
    "                    visited.add(neighbor)\n",
    "                    queue.append(neighbor)             \n",
    "    @staticmethod    \n",
    "    def dfs(graph, start, visited=None):\n",
    "        if visited is None:\n",
    "            visited = set()\n",
    "            \n",
    "        print(start, end=' ')\n",
    "        visited.add(start)\n",
    "    \n",
    "        for neighbor in graph.adjacency_list[start]:\n",
    "            if neighbor not in visited:\n",
    "                Graph.dfs(graph, neighbor, visited)\n"
   ]
  },
  {
   "cell_type": "code",
   "execution_count": 44,
   "id": "a554a4c7-7fc4-475f-a387-a210785e9710",
   "metadata": {},
   "outputs": [
    {
     "name": "stdout",
     "output_type": "stream",
     "text": [
      "A: ['B', 'C']\n",
      "B: ['A', 'D']\n",
      "C: ['A']\n",
      "D: ['B']\n"
     ]
    }
   ],
   "source": [
    "G=Graph()\n",
    "G.add_node(\"A\")\n",
    "G.add_node(\"B\")\n",
    "G.add_node(\"C\")\n",
    "G.add_node(\"D\")\n",
    "G.add_edge(\"A\",\"B\")\n",
    "G.add_edge(\"A\",\"C\")\n",
    "G.add_edge(\"B\",\"D\")\n",
    "G.display()\n",
    "\n",
    "\n"
   ]
  },
  {
   "cell_type": "code",
   "execution_count": 16,
   "id": "beab9ec3-85ba-47c9-b49b-e5ee9126e322",
   "metadata": {},
   "outputs": [
    {
     "data": {
      "text/plain": [
       "False"
      ]
     },
     "execution_count": 16,
     "metadata": {},
     "output_type": "execute_result"
    }
   ],
   "source": [
    "G.has_edge(\"A\",\"D\")"
   ]
  },
  {
   "cell_type": "code",
   "execution_count": 11,
   "id": "06d1bf5d-dbe5-4eab-9c08-47f6f3307ca7",
   "metadata": {},
   "outputs": [],
   "source": [
    "class SocialNetwork:\n",
    "    def __init__(self):\n",
    "        self.graph = Graph()\n",
    "\n",
    "    def add_user(self, user_name):\n",
    "        self.graph.add_node(user_name)\n",
    "\n",
    "    def add_friendship(self, user1, user2):\n",
    "        self.graph.add_edge(user1, user2)\n",
    "\n",
    "    def display_network(self):\n",
    "        self.graph.display()\n",
    "\n",
    "\n"
   ]
  },
  {
   "cell_type": "code",
   "execution_count": 12,
   "id": "c405c86d-fad6-4a27-bca8-420c566ba751",
   "metadata": {},
   "outputs": [
    {
     "name": "stdout",
     "output_type": "stream",
     "text": [
      "Alice: ['Bob', 'Charlie']\n",
      "Bob: ['Alice', 'Charlie']\n",
      "Charlie: ['Alice', 'Bob', 'David']\n",
      "David: ['Charlie']\n"
     ]
    }
   ],
   "source": [
    "social_network = SocialNetwork()\n",
    "\n",
    "social_network.add_user(\"Alice\")\n",
    "social_network.add_user(\"Bob\")\n",
    "social_network.add_user(\"Charlie\")\n",
    "social_network.add_user(\"David\")\n",
    "\n",
    "social_network.add_friendship(\"Alice\", \"Bob\")\n",
    "social_network.add_friendship(\"Alice\", \"Charlie\")\n",
    "social_network.add_friendship(\"Bob\", \"Charlie\")\n",
    "social_network.add_friendship(\"Charlie\", \"David\")\n",
    "\n",
    "social_network.display_network()"
   ]
  },
  {
   "cell_type": "code",
   "execution_count": 53,
   "id": "0a673051-ae87-4a78-818d-5cfc2509d572",
   "metadata": {},
   "outputs": [
    {
     "name": "stdout",
     "output_type": "stream",
     "text": [
      "1: ['2', '3']\n",
      "2: ['1', '4']\n",
      "3: ['1']\n",
      "4: ['2']\n"
     ]
    }
   ],
   "source": [
    "G=Graph()\n",
    "G.add_node(\"1\")\n",
    "G.add_node(\"2\")\n",
    "G.add_node(\"3\")\n",
    "G.add_node(\"4\")\n",
    "G.add_edge(\"1\",\"2\")\n",
    "G.add_edge(\"1\",\"3\")\n",
    "G.add_edge(\"2\",\"4\")\n",
    "#G.add_edge(\"3\",\"4\")\n",
    "G.display()"
   ]
  },
  {
   "cell_type": "code",
   "execution_count": 56,
   "id": "97181a36-3ac3-431b-9aab-88219ced2e06",
   "metadata": {},
   "outputs": [
    {
     "name": "stdout",
     "output_type": "stream",
     "text": [
      "1\n",
      "2\n",
      "3\n",
      "4\n"
     ]
    }
   ],
   "source": [
    "G.bfs_traverse(G,\"1\")"
   ]
  },
  {
   "cell_type": "code",
   "execution_count": 54,
   "id": "64de271a-4405-4028-8bfe-b3944ba1c316",
   "metadata": {},
   "outputs": [
    {
     "name": "stdout",
     "output_type": "stream",
     "text": [
      "1 2 4 3 "
     ]
    }
   ],
   "source": [
    "G.dfs(G,\"1\",visited=None) "
   ]
  },
  {
   "cell_type": "code",
   "execution_count": 59,
   "id": "e03b688b-adb6-4428-a0c2-2acca08d9912",
   "metadata": {},
   "outputs": [],
   "source": [
    "class Solution(object):\n",
    "    def bfs(self, graph, start, destination):\n",
    "        visited = set()\n",
    "        queue = deque([start])\n",
    "        visited.add(start)\n",
    "\n",
    "        while queue:\n",
    "            current_vertex = queue.popleft()\n",
    "            if current_vertex == destination:\n",
    "                return True\n",
    "            for neighbor in graph[current_vertex]:\n",
    "                if neighbor not in visited:\n",
    "                    visited.add(neighbor)\n",
    "                    queue.append(neighbor)\n",
    "        return False\n",
    "    def validPath(self, n, edges, source, destination):\n",
    "        graph = {}\n",
    "        for i in range(n):\n",
    "            graph[i] = []\n",
    "        for edge in edges:\n",
    "            graph[edge[0]].append(edge[1])\n",
    "            graph[edge[1]].append(edge[0])\n",
    "        return self.bfs(graph, source, destination)\n",
    "S=Solution()\n"
   ]
  },
  {
   "cell_type": "code",
   "execution_count": 61,
   "id": "38dec10f-5f15-4829-ba86-ee993fc9c9bc",
   "metadata": {},
   "outputs": [
    {
     "data": {
      "text/plain": [
       "True"
      ]
     },
     "execution_count": 61,
     "metadata": {},
     "output_type": "execute_result"
    }
   ],
   "source": [
    "n = 3;source = 0 ;  destination = 2\n",
    "edges = [[0,1],[1,2],[2,0]]\n",
    "S.validPath(n,edges,source,destination)\n"
   ]
  },
  {
   "cell_type": "code",
   "execution_count": 63,
   "id": "3ad7e80a-8cb6-4875-96df-4f42ba2f37fe",
   "metadata": {},
   "outputs": [
    {
     "data": {
      "text/plain": [
       "False"
      ]
     },
     "execution_count": 63,
     "metadata": {},
     "output_type": "execute_result"
    }
   ],
   "source": [
    "n = 6 ;  source = 0 ; destination = 5\n",
    "edges = [[0,1],[0,2],[3,5],[5,4],[4,3]]\n",
    "S.validPath(n,edges,source,destination)"
   ]
  },
  {
   "cell_type": "code",
   "execution_count": null,
   "id": "c74b03b2-abd7-41c0-aa51-af861ee4f0b9",
   "metadata": {},
   "outputs": [],
   "source": []
  }
 ],
 "metadata": {
  "kernelspec": {
   "display_name": "Python 3 (ipykernel)",
   "language": "python",
   "name": "python3"
  },
  "language_info": {
   "codemirror_mode": {
    "name": "ipython",
    "version": 3
   },
   "file_extension": ".py",
   "mimetype": "text/x-python",
   "name": "python",
   "nbconvert_exporter": "python",
   "pygments_lexer": "ipython3",
   "version": "3.8.20"
  }
 },
 "nbformat": 4,
 "nbformat_minor": 5
}
