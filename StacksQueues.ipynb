{
 "cells": [
  {
   "cell_type": "code",
   "execution_count": 10,
   "id": "1fbdd3b9-97c8-4508-aa4c-fd201d2b18c8",
   "metadata": {},
   "outputs": [],
   "source": [
    "class Node:\n",
    "    def __init__(self,value):\n",
    "        self.value=value\n",
    "        self.next=None\n",
    "class Stack:\n",
    "    def __init__(self):\n",
    "        self.top=None # need only one pointer\n",
    "    def push(self, value):\n",
    "        new_node=Node(value)\n",
    "        new_node.next=self.top\n",
    "        self.top=new_node\n",
    "    def pop(self):\n",
    "        if not self.top:\n",
    "            return # empty stack\n",
    "        popped_item=self.top.value\n",
    "        self.top=self.top.next \n",
    "        return popped_item\n",
    "            \n",
    "    def is_empty(self):\n",
    "      return self.top==None \n",
    "\n",
    "\n",
    "class TextEditor:\n",
    "    def __init__(self):\n",
    "        self.text=\"\"\n",
    "        self.undostack=Stack()\n",
    "    def add_text(self, text):\n",
    "        len_t=len(text)\n",
    "        self.undostack.push(len_t)\n",
    "        self.text+=text\n",
    "    def undo(self):\n",
    "        if not self.undostack.top:\n",
    "            return ## Empty stack nothing to do\n",
    "        len_p=self.undostack.pop()\n",
    "        self.text=self.text[:-len_p]\n",
    "        \n",
    "    def display_content(self):\n",
    "        print(\"Current text/content: \")\n",
    "        print(self.text)\n",
    "\n",
    "\n",
    "\n"
   ]
  },
  {
   "cell_type": "code",
   "execution_count": 11,
   "id": "99790c45-4bff-44cb-88c2-3ec8e1cb3bb9",
   "metadata": {},
   "outputs": [
    {
     "data": {
      "text/plain": [
       "False"
      ]
     },
     "execution_count": 11,
     "metadata": {},
     "output_type": "execute_result"
    }
   ],
   "source": [
    "S=Stack()\n",
    "S.push(5)\n",
    "S.push(4)\n",
    "S.push(3)\n",
    "S.is_empty()\n"
   ]
  },
  {
   "cell_type": "code",
   "execution_count": 15,
   "id": "8cb4b20b-67ca-4741-8e42-61342eb8f0a3",
   "metadata": {},
   "outputs": [
    {
     "name": "stdout",
     "output_type": "stream",
     "text": [
      "Current text/content: \n",
      "Ammar is the greatest! He is great at business!\n",
      "Now undoing last text\n",
      "Current text/content: \n",
      "Ammar is the greatest!\n"
     ]
    }
   ],
   "source": [
    "T=TextEditor()\n",
    "T.add_text(\"Ammar is the greatest!\")\n",
    "T.add_text(\" He is great at business!\")\n",
    "T.display_content()\n",
    "print(\"Now undoing last text\")\n",
    "T.undo()\n",
    "T.display_content()\n"
   ]
  },
  {
   "cell_type": "code",
   "execution_count": 17,
   "id": "b0efe86d-28d7-4c84-8ae4-3ecb5f317b67",
   "metadata": {},
   "outputs": [],
   "source": [
    "# Reverse String using a Stack\n",
    "# Write a function that takes a string as input and returns the string reversed using a stack.\n",
    "\n",
    "# Example:\n",
    "\n",
    "original_str = \"Hello, World!\"\n",
    "#result = reverse_string(original_str)\n",
    "# print(result)  # Output should be \"!dlroW ,olleH\""
   ]
  },
  {
   "cell_type": "code",
   "execution_count": 22,
   "id": "282389f9-41e2-42f6-9c2d-f60392897510",
   "metadata": {},
   "outputs": [
    {
     "data": {
      "text/plain": [
       "'!dlroW ,olleH'"
      ]
     },
     "execution_count": 22,
     "metadata": {},
     "output_type": "execute_result"
    }
   ],
   "source": [
    "def reverse_string(text):\n",
    "    S=Stack()\n",
    "    for t in text:\n",
    "        S.push(t)   \n",
    "        \n",
    "    reverse_t=\"\"\n",
    "    while not S.is_empty():\n",
    "        tx=S.pop()\n",
    "        reverse_t+=tx\n",
    "    return reverse_t\n",
    "    \n",
    "reverse_string(original_str)"
   ]
  },
  {
   "cell_type": "code",
   "execution_count": 96,
   "id": "e66e1ca0-1206-4582-8456-eb89599794df",
   "metadata": {},
   "outputs": [],
   "source": [
    "# Leetcode Challenge - Valid Parentheses\n",
    "# Given a string s containing just the characters '(', ')', '{', '}', '[' and ']', determine if the input string is valid.\n",
    "\n",
    "# An input string is valid if:\n",
    "\n",
    "# Open brackets must be closed by the same type of brackets.\n",
    "\n",
    "# Open brackets must be closed in the correct order.\n",
    "\n",
    "# Every close bracket has a corresponding open bracket of the same type.\n",
    "\n",
    "\n",
    "\n",
    "# Example 1:\n",
    "\n",
    "# Input: s = \"()\"\n",
    "# Output: true\n",
    "# Example 2:\n",
    "\n",
    "# Input: s = \"()[]{}\"\n",
    "# Output: true\n",
    "# Example 3:\n",
    "\n",
    "# Input: s = \"(]\"\n",
    "# Output: false\n",
    "def is_valid_paran(s: str) -> bool:\n",
    "    match = {')': '(', ']': '[', '}': '{'}\n",
    "    stack = []\n",
    "\n",
    "    for ch in s:\n",
    "        if ch in match.values():            # opening\n",
    "            stack.append(ch)\n",
    "        elif ch in match:                   # closing\n",
    "            if not stack or stack.pop() != match[ch]:\n",
    "                return False\n",
    "        else:\n",
    "            # If input may contain non-bracket chars, either skip or reject:\n",
    "            # return False\n",
    "            continue\n",
    "\n",
    "    return not stack\n",
    "\n"
   ]
  },
  {
   "cell_type": "code",
   "execution_count": 100,
   "id": "56999cb8-5f5c-4c48-97ae-53df55ea105c",
   "metadata": {},
   "outputs": [
    {
     "data": {
      "text/plain": [
       "True"
      ]
     },
     "execution_count": 100,
     "metadata": {},
     "output_type": "execute_result"
    }
   ],
   "source": [
    "text=\"([])\"\n",
    "\n",
    "is_valid_paran(text)"
   ]
  },
  {
   "cell_type": "code",
   "execution_count": 73,
   "id": "17ce1b5c-105e-4126-9ad2-fbb5f7cd3a81",
   "metadata": {},
   "outputs": [],
   "source": [
    "def is_valid(s: str) -> bool:\n",
    "    stack = []\n",
    "    for c in s:  # loop through each character in the string\n",
    "        if c in '([{':  # if the character is an opening bracket\n",
    "            stack.append(c)  # push it onto the stack\n",
    "        else:  # if the character is a closing bracket\n",
    "            if not stack or \\\n",
    "                (c == ')' and stack[-1] != '(') or \\\n",
    "                (c == '}' and stack[-1] != '{') or \\\n",
    "                (c == ']' and stack[-1] != '['):\n",
    "                return False  # the string is not valid, so return false\n",
    "            stack.pop()  # otherwise, pop the opening bracket from the stack\n",
    "    return not stack"
   ]
  },
  {
   "cell_type": "code",
   "execution_count": 93,
   "id": "512950fa-a2c9-4f76-aef2-0e5deebac342",
   "metadata": {},
   "outputs": [
    {
     "data": {
      "text/plain": [
       "False"
      ]
     },
     "execution_count": 93,
     "metadata": {},
     "output_type": "execute_result"
    }
   ],
   "source": [
    "text=\"]\"\n",
    "is_valid(text) "
   ]
  },
  {
   "cell_type": "code",
   "execution_count": null,
   "id": "3f74cf32-2740-456f-80b6-e06d2165dc09",
   "metadata": {},
   "outputs": [],
   "source": []
  }
 ],
 "metadata": {
  "kernelspec": {
   "display_name": "Python 3 (ipykernel)",
   "language": "python",
   "name": "python3"
  },
  "language_info": {
   "codemirror_mode": {
    "name": "ipython",
    "version": 3
   },
   "file_extension": ".py",
   "mimetype": "text/x-python",
   "name": "python",
   "nbconvert_exporter": "python",
   "pygments_lexer": "ipython3",
   "version": "3.8.20"
  }
 },
 "nbformat": 4,
 "nbformat_minor": 5
}
