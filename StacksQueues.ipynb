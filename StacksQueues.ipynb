{
 "cells": [
  {
   "cell_type": "code",
   "execution_count": 10,
   "id": "1fbdd3b9-97c8-4508-aa4c-fd201d2b18c8",
   "metadata": {},
   "outputs": [],
   "source": [
    "class Node:\n",
    "    def __init__(self,value):\n",
    "        self.value=value\n",
    "        self.next=None\n",
    "class Stack:\n",
    "    def __init__(self):\n",
    "        self.top=None # need only one pointer\n",
    "    def push(self, value):\n",
    "        new_node=Node(value)\n",
    "        new_node.next=self.top\n",
    "        self.top=new_node\n",
    "    def pop(self):\n",
    "        if not self.top:\n",
    "            return # empty stack\n",
    "        popped_item=self.top.value\n",
    "        self.top=self.top.next \n",
    "        return popped_item\n",
    "            \n",
    "    def is_empty(self):\n",
    "      return self.top==None \n",
    "\n",
    "\n",
    "class TextEditor:\n",
    "    def __init__(self):\n",
    "        self.text=\"\"\n",
    "        self.undostack=Stack()\n",
    "    def add_text(self, text):\n",
    "        len_t=len(text)\n",
    "        self.undostack.push(len_t)\n",
    "        self.text+=text\n",
    "    def undo(self):\n",
    "        if not self.undostack.top:\n",
    "            return ## Empty stack nothing to do\n",
    "        len_p=self.undostack.pop()\n",
    "        self.text=self.text[:-len_p]\n",
    "        \n",
    "    def display_content(self):\n",
    "        print(\"Current text/content: \")\n",
    "        print(self.text)\n",
    "\n",
    "\n",
    "\n"
   ]
  },
  {
   "cell_type": "code",
   "execution_count": 11,
   "id": "99790c45-4bff-44cb-88c2-3ec8e1cb3bb9",
   "metadata": {},
   "outputs": [
    {
     "data": {
      "text/plain": [
       "False"
      ]
     },
     "execution_count": 11,
     "metadata": {},
     "output_type": "execute_result"
    }
   ],
   "source": [
    "S=Stack()\n",
    "S.push(5)\n",
    "S.push(4)\n",
    "S.push(3)\n",
    "S.is_empty()\n"
   ]
  },
  {
   "cell_type": "code",
   "execution_count": 12,
   "id": "8cb4b20b-67ca-4741-8e42-61342eb8f0a3",
   "metadata": {},
   "outputs": [],
   "source": [
    "T=TextEditor()\n",
    "T.add_text(\"Ammar is the greatest!\")\n",
    "T.add_text(\"He j"
   ]
  },
  {
   "cell_type": "code",
   "execution_count": null,
   "id": "b0efe86d-28d7-4c84-8ae4-3ecb5f317b67",
   "metadata": {},
   "outputs": [],
   "source": []
  }
 ],
 "metadata": {
  "kernelspec": {
   "display_name": "Python 3 (ipykernel)",
   "language": "python",
   "name": "python3"
  },
  "language_info": {
   "codemirror_mode": {
    "name": "ipython",
    "version": 3
   },
   "file_extension": ".py",
   "mimetype": "text/x-python",
   "name": "python",
   "nbconvert_exporter": "python",
   "pygments_lexer": "ipython3",
   "version": "3.8.20"
  }
 },
 "nbformat": 4,
 "nbformat_minor": 5
}
