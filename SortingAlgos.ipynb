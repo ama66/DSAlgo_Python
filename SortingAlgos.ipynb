{
 "cells": [
  {
   "cell_type": "code",
   "execution_count": 4,
   "id": "85b509ac-6379-4d0c-8205-03c775c7e91c",
   "metadata": {},
   "outputs": [],
   "source": [
    "#Bubblesort..in each iteration over the array we bubble up the max element over the unsorted segment of the array\n",
    "def bubblesort(arr):\n",
    "    n=len(arr)\n",
    "\n",
    "    for i in range(n): ## Bubbling loops\n",
    "        swapped=False\n",
    "        for j in range(0,n-i-1):  # Shrinks with each pass\n",
    "            if arr[j] > arr[j+1]:\n",
    "                arr[j] , arr[j+1] = arr[j+1] , arr[j]\n",
    "                swapped=True\n",
    "        if swapped==False: # No swaps = already sorted \n",
    "            return arr\n",
    "\n",
    "            \n",
    "                "
   ]
  },
  {
   "cell_type": "code",
   "execution_count": 5,
   "id": "e39a170f-d6e4-4a23-bf1f-1c5f465732a2",
   "metadata": {},
   "outputs": [
    {
     "data": {
      "text/plain": [
       "[-5, 0, 4, 12, 20, 90]"
      ]
     },
     "execution_count": 5,
     "metadata": {},
     "output_type": "execute_result"
    }
   ],
   "source": [
    "arr=[0,90,-5,4,20,12]\n",
    "arr=bubblesort(arr)\n",
    "arr"
   ]
  },
  {
   "cell_type": "code",
   "execution_count": 8,
   "id": "8925ae30-6213-46db-a8f7-6441bb765edb",
   "metadata": {},
   "outputs": [],
   "source": [
    "def insertion_sort(arr):\n",
    "    # Start from index 1 because a single element (arr[0]) is already \"sorted\".\n",
    "    for i in range(1, len(arr)):\n",
    "        current_element = arr[i]   # The \"card in hand\"\n",
    "        j = i - 1                  # Start comparing with the element before it\n",
    "\n",
    "        # Shift elements of the sorted section to the right\n",
    "        # until you find the correct position for current_element\n",
    "        ## arr[j+1] will hold either the previous element in case current element is smaller than the previous element or current element\n",
    "        ## when it is in its right place. Otherwise we will keep traversing the list to the left until we are at 0 and if we exit the whil\n",
    "        ## j will be -1 and we will fill arr[0] with the current_element as it is the smallest of all.\n",
    "        while j >= 0 and current_element < arr[j]:\n",
    "            arr[j + 1] = arr[j]    # Move element one step to the right\n",
    "            j -= 1\n",
    "\n",
    "        # Place current_element into its correct position\n",
    "        arr[j + 1] = current_element\n",
    "    return arr\n",
    "    "
   ]
  },
  {
   "cell_type": "code",
   "execution_count": 10,
   "id": "b271f672-9c41-485b-9edd-925633ab7848",
   "metadata": {},
   "outputs": [
    {
     "data": {
      "text/plain": [
       "[-5, 0, 4, 12, 20, 90]"
      ]
     },
     "execution_count": 10,
     "metadata": {},
     "output_type": "execute_result"
    }
   ],
   "source": [
    "arr=[0,90,-5,4,20,12]\n",
    "arr = insertion_sort(arr)\n",
    "arr"
   ]
  },
  {
   "cell_type": "code",
   "execution_count": 12,
   "id": "61d7ad84-e1b9-457a-be04-1ab14cc318af",
   "metadata": {},
   "outputs": [
    {
     "data": {
      "text/plain": [
       "[-5, 0, 4, 12, 20, 90]"
      ]
     },
     "execution_count": 12,
     "metadata": {},
     "output_type": "execute_result"
    }
   ],
   "source": [
    "def insertion_sort(arr):\n",
    "    n=len(arr)\n",
    "    for i in range(1,n): \n",
    "        ## Loop over the unsorted section assuming first element on the left is already sorted\n",
    "        current_element = arr[i]\n",
    "        j=i-1 \n",
    "        ## Now loop over the sorted section and place arr[i] (current element) in its right spot in the array\n",
    "        while j>=0 and current_element< arr[j]:\n",
    "            ## move array to the right\n",
    "            arr[j+1]=arr[j] \n",
    "        ## arr[j+1] will either get the previous element if it is smaller than current until j=-1 \n",
    "        ## or we exit the loop prematurely and fill it with current element \n",
    "        arr[j+1]=current_element\n",
    "    return arr\n",
    "\n",
    "\n",
    "arr=[0,90,-5,4,20,12]\n",
    "arr = insertion_sort(arr)\n",
    "arr"
   ]
  },
  {
   "cell_type": "code",
   "execution_count": 15,
   "id": "3bd7624d-10d0-4ee6-a2c4-1dff4e0a1eb6",
   "metadata": {},
   "outputs": [
    {
     "data": {
      "text/plain": [
       "[-5, 0, 4, 12, 20, 90]"
      ]
     },
     "execution_count": 15,
     "metadata": {},
     "output_type": "execute_result"
    }
   ],
   "source": [
    "# Selection sort\n",
    "def selection_sort(arr):\n",
    "    n=len(arr)\n",
    "    for i in range(n):\n",
    "        min_index=i \n",
    "        for j in range(i+1,n):\n",
    "            if arr[j]< arr[min_index]:\n",
    "                min_index=j \n",
    "        arr[i],arr[min_index]=arr[min_index],arr[i]\n",
    "\n",
    "    return arr\n",
    "    \n",
    "arr=[0,90,-5,4,20,12]\n",
    "arr = insertion_sort(arr)\n",
    "arr"
   ]
  },
  {
   "cell_type": "code",
   "execution_count": 27,
   "id": "fae3dd5e-d7cc-4c5f-a905-1b459f171550",
   "metadata": {},
   "outputs": [
    {
     "name": "stdout",
     "output_type": "stream",
     "text": [
      "[-5, 0, 4, 12, 20, 90]\n"
     ]
    }
   ],
   "source": [
    "def merge(arr, left_half, right_half):\n",
    "    i = j = k = 0\n",
    "    while i < len(left_half) and j < len(right_half):\n",
    "        if left_half[i] <= right_half[j]:  # <= keeps stability\n",
    "            arr[k] = left_half[i]; i += 1\n",
    "        else:\n",
    "            arr[k] = right_half[j]; j += 1\n",
    "        k += 1\n",
    "    while i < len(left_half):\n",
    "        arr[k] = left_half[i]; i += 1; k += 1\n",
    "    while j < len(right_half):\n",
    "        arr[k] = right_half[j]; j += 1; k += 1\n",
    "\n",
    "def mergesort(arr):\n",
    "    if len(arr) > 1:                       # everything stays inside this block\n",
    "        mid = len(arr) // 2\n",
    "        left_array = arr[:mid]\n",
    "        right_array = arr[mid:]\n",
    "        mergesort(left_array)\n",
    "        mergesort(right_array)\n",
    "        merge(arr, left_array, right_array)\n",
    "\n",
    "# Usage\n",
    "arr = [0, 90, -5, 4, 20, 12]\n",
    "mergesort(arr)           # sort in place\n",
    "print(arr)               # [-5, 0, 4, 12, 20, 90]\n"
   ]
  },
  {
   "cell_type": "code",
   "execution_count": 26,
   "id": "290c6a74-2b64-4ba0-847f-5aa496e39502",
   "metadata": {},
   "outputs": [],
   "source": [
    "arr"
   ]
  },
  {
   "cell_type": "code",
   "execution_count": null,
   "id": "5b4d7563-d1dc-41c2-9ca5-7ff0f5052165",
   "metadata": {},
   "outputs": [],
   "source": []
  }
 ],
 "metadata": {
  "kernelspec": {
   "display_name": "Python 3 (ipykernel)",
   "language": "python",
   "name": "python3"
  },
  "language_info": {
   "codemirror_mode": {
    "name": "ipython",
    "version": 3
   },
   "file_extension": ".py",
   "mimetype": "text/x-python",
   "name": "python",
   "nbconvert_exporter": "python",
   "pygments_lexer": "ipython3",
   "version": "3.8.20"
  }
 },
 "nbformat": 4,
 "nbformat_minor": 5
}
