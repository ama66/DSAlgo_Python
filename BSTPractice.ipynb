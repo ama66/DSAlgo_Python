{
 "cells": [
  {
   "cell_type": "code",
   "execution_count": 2,
   "id": "88996c7c-3563-4137-a2a0-9e808fd63dda",
   "metadata": {},
   "outputs": [],
   "source": [
    "class Node:\n",
    "    def __init__(self, value):\n",
    "        self.value = value\n",
    "        self.left = None\n",
    "        self.right = None\n",
    "\n",
    "\n",
    "class BinarySearchTree:\n",
    "    def __init__(self):\n",
    "        self.root = None\n",
    "\n",
    "    def insert(self, value):\n",
    "        ## Case of empty BST\n",
    "        if not self.root:\n",
    "            self.root = Node(value)\n",
    "            return\n",
    "        ## Iterate starting at the root\n",
    "        temp = self.root\n",
    "        while temp:\n",
    "            ## Left Subtree\n",
    "            if value < temp.value:\n",
    "                ## if left is an empty spot insert there\n",
    "                if temp.left is None: \n",
    "                    temp.left = Node(value)\n",
    "                    return\n",
    "                else: ## otherwise move to the left and continue the iteration\n",
    "                    temp = temp.left\n",
    "            ## Right Subtree\n",
    "            elif value > temp.value:\n",
    "                ## if right is an empty spot insert there\n",
    "                if temp.right is None:\n",
    "                    temp.right = Node(value)\n",
    "                    return\n",
    "                else: ## otherwise move to the right\n",
    "                    temp = temp.right\n",
    "            else: # Cannot insert similar value! \n",
    "                return\n",
    "\n",
    "            "
   ]
  },
  {
   "cell_type": "code",
   "execution_count": 4,
   "id": "de3ca744-ddf3-43e9-891a-2ce1dbf62663",
   "metadata": {},
   "outputs": [],
   "source": [
    "class Node:\n",
    "    def __init__(self, value):\n",
    "        self.value = value\n",
    "        self.left = None\n",
    "        self.right = None\n",
    "\n",
    "\n",
    "class BinarySearchTree:\n",
    "    def __init__(self):\n",
    "        self.root = None\n",
    "\n",
    "    def insert(self, value):\n",
    "        if not self.root:\n",
    "            self.root = Node(value)\n",
    "            return\n",
    "\n",
    "        temp = self.root\n",
    "        while temp:\n",
    "            if value < temp.value:\n",
    "                if temp.left is None:\n",
    "                    temp.left = Node(value)\n",
    "                    return\n",
    "                else:\n",
    "                    temp = temp.left\n",
    "            elif value > temp.value:\n",
    "                if temp.right is None:\n",
    "                    temp.right = Node(value)\n",
    "                    return\n",
    "                else:\n",
    "                    temp = temp.right\n",
    "            else:\n",
    "                return\n",
    "\n",
    "    def search(self, value):\n",
    "        temp = self.root\n",
    "        while temp:\n",
    "            if value == temp.value:\n",
    "                return temp\n",
    "            elif value < temp.value:\n",
    "                temp = temp.left\n",
    "            else:\n",
    "                temp = temp.right\n",
    "        return None\n"
   ]
  },
  {
   "cell_type": "code",
   "execution_count": 5,
   "id": "08c07d6d-3a30-44b1-99c6-ea45cfef2598",
   "metadata": {},
   "outputs": [],
   "source": [
    "BST=BinarySearchTree()\n",
    "BST.insert(2)\n",
    "BST.insert(5)\n",
    "BST.insert(-1)\n",
    "BST.insert(-12)\n",
    "BST.insert(21)\n",
    "\n"
   ]
  },
  {
   "cell_type": "code",
   "execution_count": 7,
   "id": "cd157660-4fc4-40e1-8a69-9b6c522cd1d9",
   "metadata": {},
   "outputs": [
    {
     "data": {
      "text/plain": [
       "21"
      ]
     },
     "execution_count": 7,
     "metadata": {},
     "output_type": "execute_result"
    }
   ],
   "source": [
    "No=BST.search(21)\n",
    "No.value"
   ]
  },
  {
   "cell_type": "code",
   "execution_count": null,
   "id": "d2a3deb3-d62b-47e7-9388-d1e3dbe4d0a6",
   "metadata": {},
   "outputs": [],
   "source": []
  }
 ],
 "metadata": {
  "kernelspec": {
   "display_name": "Python 3 (ipykernel)",
   "language": "python",
   "name": "python3"
  },
  "language_info": {
   "codemirror_mode": {
    "name": "ipython",
    "version": 3
   },
   "file_extension": ".py",
   "mimetype": "text/x-python",
   "name": "python",
   "nbconvert_exporter": "python",
   "pygments_lexer": "ipython3",
   "version": "3.8.20"
  }
 },
 "nbformat": 4,
 "nbformat_minor": 5
}
