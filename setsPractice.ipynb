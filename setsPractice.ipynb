{
 "cells": [
  {
   "cell_type": "code",
   "execution_count": 1,
   "id": "551195ba-56ed-4844-8623-a20cb92de6e6",
   "metadata": {},
   "outputs": [
    {
     "name": "stdout",
     "output_type": "stream",
     "text": [
      "Number of unique words:  23\n"
     ]
    }
   ],
   "source": [
    "## set methods: set.add(), set.remove() raises error , discard() does not! \n",
    "def count_unique_words(text):\n",
    "    words = text.split()\n",
    "    unique_words = set(words)\n",
    "    return len(unique_words)\n",
    "\n",
    "\n",
    "text_input = (\"Python is a high-level programming language. \"\n",
    "              \"Python's simplicity and flexibility make it a popular programming language. \"\n",
    "              \"Learning Python is essential for mastering web development, data science, and automation tasks.\")\n",
    "\n",
    "unique_words_count = count_unique_words(text_input)\n",
    "print(\"Number of unique words: \", unique_words_count)\n"
   ]
  },
  {
   "cell_type": "code",
   "execution_count": 3,
   "id": "4f7bc870-a146-40a0-8b35-807caa32b2b3",
   "metadata": {},
   "outputs": [
    {
     "data": {
      "text/plain": [
       "['Python',\n",
       " 'is',\n",
       " 'a',\n",
       " 'high-level',\n",
       " 'programming',\n",
       " 'language.',\n",
       " \"Python's\",\n",
       " 'simplicity',\n",
       " 'and',\n",
       " 'flexibility',\n",
       " 'make',\n",
       " 'it',\n",
       " 'a',\n",
       " 'popular',\n",
       " 'programming',\n",
       " 'language.',\n",
       " 'Learning',\n",
       " 'Python',\n",
       " 'is',\n",
       " 'essential',\n",
       " 'for',\n",
       " 'mastering',\n",
       " 'web',\n",
       " 'development,',\n",
       " 'data',\n",
       " 'science,',\n",
       " 'and',\n",
       " 'automation',\n",
       " 'tasks.']"
      ]
     },
     "execution_count": 3,
     "metadata": {},
     "output_type": "execute_result"
    }
   ],
   "source": [
    "text_input = (\"Python is a high-level programming language. \"\n",
    "              \"Python's simplicity and flexibility make it a popular programming language. \"\n",
    "              \"Learning Python is essential for mastering web development, data science, and automation tasks.\")\n",
    "\n",
    "words = text_input.split()\n",
    "words\n"
   ]
  },
  {
   "cell_type": "markdown",
   "id": "9093bb97-5d83-4b62-8b01-df8f1f1afbf0",
   "metadata": {},
   "source": [
    "***********\n",
    "Implement a function that takes an input array, removes the duplicate elements and returns the result in an array.\n",
    "**********\n",
    "Example:\n",
    "\n",
    "input_array = [1, 2, 3, 4, 2, 5, 6, 1]\n",
    "result = remove_duplicates(input_array)\n",
    "print(result)   # Prints [1, 2, 3, 4, 5, 6]"
   ]
  },
  {
   "cell_type": "code",
   "execution_count": 5,
   "id": "05ccab93-270e-4894-93fd-4a85772c1736",
   "metadata": {},
   "outputs": [
    {
     "data": {
      "text/plain": [
       "[2, 3, 5, 8, 9, -1]"
      ]
     },
     "execution_count": 5,
     "metadata": {},
     "output_type": "execute_result"
    }
   ],
   "source": [
    "def remove_duplicates(llist):\n",
    "    s=set(llist)\n",
    "    p=[]\n",
    "    for i in s:\n",
    "        p.append(i)\n",
    "    return p\n",
    "remove_duplicates([9,3,2,2,5,5,-1,8])\n",
    "\n"
   ]
  },
  {
   "cell_type": "code",
   "execution_count": null,
   "id": "b320005b-dada-4d56-829f-4deddc840e7a",
   "metadata": {},
   "outputs": [],
   "source": []
  }
 ],
 "metadata": {
  "kernelspec": {
   "display_name": "Python 3 (ipykernel)",
   "language": "python",
   "name": "python3"
  },
  "language_info": {
   "codemirror_mode": {
    "name": "ipython",
    "version": 3
   },
   "file_extension": ".py",
   "mimetype": "text/x-python",
   "name": "python",
   "nbconvert_exporter": "python",
   "pygments_lexer": "ipython3",
   "version": "3.8.20"
  }
 },
 "nbformat": 4,
 "nbformat_minor": 5
}
