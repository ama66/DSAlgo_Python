{
 "cells": [
  {
   "cell_type": "markdown",
   "id": "af5240d1-c9a4-4afe-882f-ed47fc94777e",
   "metadata": {},
   "source": [
    "***************\n",
    "Leetcode Challenge - 2 Sum\n",
    "************\n",
    "Given an array of integers nums and an integer target, return indices of the two numbers such that they add up to target.\n",
    "\n",
    "You may assume that each input would have exactly one solution, and you may not use the same element twice.\n",
    "\n",
    "\n",
    "\n",
    "Example 1:\n",
    "\n",
    "Input: nums = [2,7,11,15], target = 9\n",
    "Output: [0,1]\n",
    "Explanation: Because nums[0] + nums[1] == 9, we return [0, 1].\n",
    "Example 2:\n",
    "\n",
    "Input: nums = [3,2,4], target = 6\n",
    "Output: [1,2]\n",
    "Example 3:\n",
    "\n",
    "Input: nums = [3,3], target = 6\n",
    "Output: [0,1]\n",
    "\n",
    "\n",
    "Constraints:\n",
    "\n",
    "2 <= nums.length <= 104\n",
    "\n",
    "-109 <= nums[i] <= 109\n",
    "\n",
    "-109 <= target <= 109\n",
    "\n",
    "Only one valid answer exists.\n",
    "\n",
    "\n",
    "\n",
    "Follow-up: Can you come up with an algorithm that is less than O(n2)time complexity?"
   ]
  },
  {
   "cell_type": "code",
   "execution_count": 12,
   "id": "eaee5f74-37cd-4e18-8a12-5f239274371a",
   "metadata": {},
   "outputs": [],
   "source": [
    "def Twosum(nums,target):\n",
    "    numd={}\n",
    "    for i,val in enumerate(nums):\n",
    "        numd[val]=i\n",
    "    for idx , num in enumerate(nums):\n",
    "        key=target-num\n",
    "        if key in numd and numd[key]!=idx:\n",
    "            return [numd[key] , idx]\n",
    "    return []\n",
    "            "
   ]
  },
  {
   "cell_type": "code",
   "execution_count": 13,
   "id": "f381698f-14e5-4c0d-8da2-d07ea0f574bc",
   "metadata": {},
   "outputs": [
    {
     "data": {
      "text/plain": [
       "[]"
      ]
     },
     "execution_count": 13,
     "metadata": {},
     "output_type": "execute_result"
    }
   ],
   "source": [
    "nums = [2,7,11,15]; target = 4\n",
    "Twosum(nums,target)"
   ]
  },
  {
   "cell_type": "code",
   "execution_count": null,
   "id": "d34162ac-9c32-4b5d-b67f-3f4b95793f12",
   "metadata": {},
   "outputs": [],
   "source": []
  },
  {
   "cell_type": "code",
   "execution_count": null,
   "id": "c89f8153-e961-4fbc-92a0-ddba86798e46",
   "metadata": {},
   "outputs": [],
   "source": []
  }
 ],
 "metadata": {
  "kernelspec": {
   "display_name": "Python 3 (ipykernel)",
   "language": "python",
   "name": "python3"
  },
  "language_info": {
   "codemirror_mode": {
    "name": "ipython",
    "version": 3
   },
   "file_extension": ".py",
   "mimetype": "text/x-python",
   "name": "python",
   "nbconvert_exporter": "python",
   "pygments_lexer": "ipython3",
   "version": "3.8.20"
  }
 },
 "nbformat": 4,
 "nbformat_minor": 5
}
