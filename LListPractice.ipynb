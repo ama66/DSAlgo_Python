{
 "cells": [
  {
   "cell_type": "code",
   "execution_count": 1,
   "id": "7b4da15e-a13f-4b0c-ade4-c8d70d49a36f",
   "metadata": {},
   "outputs": [],
   "source": [
    "## Define a node that has value and next pointer attributes\n",
    "###\n",
    "## A Linkedin list is a class that has two reference attributes/pointers that refernce nodes (head or tail)\n",
    "## and support operations like append, prepend, remove and iterate for example to print\n",
    "class Node:\n",
    "    def __init__(self, value):\n",
    "        self.value=value\n",
    "        self.next=None \n"
   ]
  },
  {
   "cell_type": "code",
   "execution_count": 129,
   "id": "73f0102d-67ad-4aa4-af89-ebea7470c07e",
   "metadata": {},
   "outputs": [],
   "source": [
    "class LinkedList:\n",
    "    def __init__(self):\n",
    "        self.head=None\n",
    "        self.tail=None\n",
    "    def append(self,value):\n",
    "        ## First create a new node \n",
    "        new_node=Node(value)\n",
    "        # If the list is empty make it first element\n",
    "        if not self.head:\n",
    "            self.head=new_node\n",
    "            self.tail=new_node\n",
    "        else: # stick it at the end of the linked list\n",
    "            self.tail.next=new_node ## this makes last element point to the new node\n",
    "            self.tail=new_node # Now shift the tail to the last element/new node\n",
    "    def prepend(self,value): ## Stick it in front of the linkedin list\n",
    "        new_node=Node(value)\n",
    "        new_node.next=self.head\n",
    "        self.head=new_node\n",
    "        ## Whatif it is an empty list! \n",
    "        if not self.tail:\n",
    "            self.tail=new_node\n",
    "    def remove(self,value):\n",
    "        ## if empty list return\n",
    "        if not self.head:\n",
    "            return\n",
    "        ## initialize iterator at head and traverse the linked list all the way to the element before the tail \n",
    "        ## but first handle the case where self.head.value= value\n",
    "        if self.head.value==value:\n",
    "            self.head=self.head.next\n",
    "            ## Now what if I remove the head and it is the only element in the array\n",
    "            ## in that case the self.tail pointer need to be reassigned\n",
    "            if not self.head:\n",
    "                self.tail=None       \n",
    "        ## Otherwise iterate till you get to value        \n",
    "        iterator=self.head\n",
    "        while iterator.next: \n",
    "            if iterator.next.value==value:\n",
    "                iterator.next=iterator.next.next\n",
    "                if not iterator.next:  # this means we removed last element and cut the connection to tail\n",
    "                    self.tail=iterator\n",
    "                return\n",
    "            iterator=iterator.next\n",
    "    def print(self):\n",
    "        if self.head:\n",
    "            iterator=self.head\n",
    "            while iterator:\n",
    "                print(iterator.value)\n",
    "                iterator=iterator.next\n",
    "\n"
   ]
  },
  {
   "cell_type": "code",
   "execution_count": 130,
   "id": "4409b8c0-6dda-4518-af3d-75cc94c30a38",
   "metadata": {},
   "outputs": [],
   "source": [
    "g=LinkedList()\n",
    "g.append(\"Dood\")\n",
    "g.append(\"Klood\")\n",
    "g.prepend(\"3asal\")\n",
    "          "
   ]
  },
  {
   "cell_type": "code",
   "execution_count": 131,
   "id": "3ff0adff-ca57-4e7b-9d2f-4c794f6a0855",
   "metadata": {},
   "outputs": [
    {
     "name": "stdout",
     "output_type": "stream",
     "text": [
      "3asal\n",
      "Dood\n",
      "Klood\n"
     ]
    }
   ],
   "source": [
    "g.print()"
   ]
  },
  {
   "cell_type": "code",
   "execution_count": 48,
   "id": "73eab6df-f134-40ee-a5a0-ca2aad1aa075",
   "metadata": {},
   "outputs": [],
   "source": [
    "g.remove(\"3asal\")"
   ]
  },
  {
   "cell_type": "code",
   "execution_count": 38,
   "id": "aff9fd50-b876-47bf-a080-d03a0f5b4789",
   "metadata": {},
   "outputs": [
    {
     "name": "stdout",
     "output_type": "stream",
     "text": [
      "Dood\n",
      "Klood\n"
     ]
    }
   ],
   "source": [
    "g.print()"
   ]
  },
  {
   "cell_type": "code",
   "execution_count": 49,
   "id": "e95ce7f7-523a-46a3-bd2b-4768d99f8fb2",
   "metadata": {},
   "outputs": [
    {
     "name": "stdout",
     "output_type": "stream",
     "text": [
      "Dood\n"
     ]
    }
   ],
   "source": [
    "g.remove(\"Klood\")\n",
    "g.print()"
   ]
  },
  {
   "cell_type": "code",
   "execution_count": 51,
   "id": "25baeb6e-2547-4aa8-be85-a0bde5383584",
   "metadata": {},
   "outputs": [],
   "source": [
    "g.remove(\"Dood\")\n",
    "g.print()"
   ]
  },
  {
   "cell_type": "code",
   "execution_count": 52,
   "id": "2f7eed33-cf16-4b38-84b4-22047ae0a2ff",
   "metadata": {},
   "outputs": [],
   "source": [
    "g.print()"
   ]
  },
  {
   "cell_type": "code",
   "execution_count": 55,
   "id": "c97e54a6-15a7-48f8-aadc-33e5906bcf8d",
   "metadata": {},
   "outputs": [
    {
     "name": "stdout",
     "output_type": "stream",
     "text": [
      "Items in the shopping cart: \n",
      "Apple\n",
      "Banana\n",
      "Orange\n",
      "Items in the shopping cart: \n",
      "Apple\n",
      "Banana\n"
     ]
    }
   ],
   "source": [
    "class ShoppingCart:\n",
    "    def __init__(self):\n",
    "        self.items = LinkedList()\n",
    "\n",
    "    def add_item(self, item):\n",
    "        self.items.append(item)\n",
    "\n",
    "    def remove_item(self, item):\n",
    "        self.items.remove(item)\n",
    "\n",
    "    def display_cart(self):\n",
    "        print(\"Items in the shopping cart: \")\n",
    "        self.items.print()\n",
    "\n",
    "\n",
    "cart = ShoppingCart()\n",
    "cart.add_item(\"Apple\")\n",
    "cart.add_item(\"Banana\")\n",
    "cart.add_item(\"Orange\")\n",
    "\n",
    "cart.display_cart()\n",
    "\n",
    "cart.remove_item(\"Orange\")\n",
    "cart.display_cart()\n"
   ]
  },
  {
   "cell_type": "markdown",
   "id": "67c8a988-7a4d-40ca-b3f8-a9c9e7ebd721",
   "metadata": {},
   "source": [
    "*************************************************\n",
    "Example:\n",
    "Given the head of a singly linked list, reverse the list, and return the reversed list.\n",
    "*************************************************\n",
    "\n",
    "\n",
    "Example 1:\n",
    "\n",
    "Input: head = [1,2,3]\n",
    "# 1 => 2 => 3\n",
    " \n",
    "Output: [3,2,1]\n",
    "# 3 => 2 => 1\n",
    "\n",
    "\n"
   ]
  },
  {
   "cell_type": "code",
   "execution_count": 56,
   "id": "f71e41e5-da2f-44bc-bb64-f0a572def0c8",
   "metadata": {},
   "outputs": [],
   "source": [
    "class LinkedList:\n",
    "    def __init__(self):\n",
    "        self.head=None\n",
    "        self.tail=None\n",
    "    def append(self,value):\n",
    "        ## First create a new node \n",
    "        new_node=Node(value)\n",
    "        # If the list is empty make it first element\n",
    "        if not self.head:\n",
    "            self.head=new_node\n",
    "            self.tail=new_node\n",
    "        else: # stick it at the end of the linked list\n",
    "            self.tail.next=new_node ## this makes last element point to the new node\n",
    "            self.tail=new_node # Now shift the tail to the last element/new node\n",
    "    def prepend(self,value): ## Stick it in front of the linkedin list\n",
    "        new_node=Node(value)\n",
    "        new_node.next=self.head\n",
    "        self.head=new_node\n",
    "        ## Whatif it is an empty list! \n",
    "        if not self.tail:\n",
    "            self.tail=new_node\n",
    "    def remove(self,value):\n",
    "        ## if empty list return\n",
    "        if not self.head:\n",
    "            return\n",
    "        ## initialize iterator at head and traverse the linked list all the way to the element before the tail \n",
    "        ## but first handle the case where self.head.value= value\n",
    "        if self.head.value==value:\n",
    "            self.head=self.head.next\n",
    "            ## Now what if I remove the head and it is the only element in the array\n",
    "            ## in that case the self.tail pointer need to be reassigned\n",
    "            if not self.head:\n",
    "                self.tail=None       \n",
    "        ## Otherwise iterate till you get to value        \n",
    "        iterator=self.head\n",
    "        while iterator.next: \n",
    "            if iterator.next.value==value:\n",
    "                iterator.next=iterator.next.next\n",
    "                if not iterator.next:  # this means we removed last element and cut the connection to tail\n",
    "                    self.tail=iterator\n",
    "                return\n",
    "            iterator=iterator.next\n",
    "    def  print(self):\n",
    "        if self.head:\n",
    "            iterator=self.head\n",
    "            while iterator:\n",
    "                print(iterator.value)\n",
    "                iterator=iterator.next\n",
    "\n"
   ]
  },
  {
   "cell_type": "code",
   "execution_count": 120,
   "id": "d805cbf6-f0b8-4dc7-bdf2-03f57f9f50fb",
   "metadata": {},
   "outputs": [],
   "source": [
    "class SolutionLL:\n",
    "    def __init__(self,items):\n",
    "        self.llist=LinkedList()\n",
    "        for it in items:\n",
    "            self.llist.append(it)\n",
    "        self.llist.print()\n",
    "    def reverse_list(self):\n",
    "        # Will define prev, current and next pointers and keep moving all three across the llist\n",
    "        current=self.llist.head\n",
    "        prev=None\n",
    "        while current:\n",
    "            next=current.next # preserve next! \n",
    "            current.next=prev # now redirect current to previous\n",
    "            ## Now advance prev and current\n",
    "            prev=current\n",
    "            current=next\n",
    "        return prev\n",
    "    def build_reverse_list(self):\n",
    "        prev=self.reverse_list()\n",
    "        g=LinkedList()\n",
    "        g.head=prev\n",
    "        iterator=g.head\n",
    "        while iterator.next:\n",
    "            iterator=iterator.next\n",
    "        g.tail=iterator\n",
    "        \n",
    "        return g \n",
    "        \n",
    "        \n",
    "            \n",
    "            \n",
    "            "
   ]
  },
  {
   "cell_type": "code",
   "execution_count": 125,
   "id": "e31c57d1-62bc-40b9-bf9e-02e90565b3d1",
   "metadata": {},
   "outputs": [
    {
     "name": "stdout",
     "output_type": "stream",
     "text": [
      "134\n",
      "3\n",
      "4\n",
      "5\n",
      "6\n",
      "-1\n",
      "12\n",
      "26\n"
     ]
    }
   ],
   "source": [
    "S=SolutionLL([134,3,4,5,6,-1,12,26])"
   ]
  },
  {
   "cell_type": "code",
   "execution_count": 126,
   "id": "2851dddf-c744-4bb5-a06e-97bd482b9649",
   "metadata": {},
   "outputs": [],
   "source": [
    "#prev=S.reverse_list()"
   ]
  },
  {
   "cell_type": "code",
   "execution_count": 99,
   "id": "4fe46b91-b8da-4de3-93db-465e81413166",
   "metadata": {},
   "outputs": [],
   "source": [
    "#rev_l=S.build_reverse_list()"
   ]
  },
  {
   "cell_type": "code",
   "execution_count": 114,
   "id": "a13c50f4-efb4-4dd8-a839-5b75cfd88dbe",
   "metadata": {},
   "outputs": [],
   "source": [
    "#rev_l.print()"
   ]
  },
  {
   "cell_type": "code",
   "execution_count": 127,
   "id": "40cd246d-904a-48d2-9166-e19deecea137",
   "metadata": {},
   "outputs": [],
   "source": [
    "g= S.build_reverse_list()"
   ]
  },
  {
   "cell_type": "code",
   "execution_count": 128,
   "id": "170430f3-568c-43c8-95e4-82845c165223",
   "metadata": {},
   "outputs": [
    {
     "data": {
      "text/plain": [
       "134"
      ]
     },
     "execution_count": 128,
     "metadata": {},
     "output_type": "execute_result"
    }
   ],
   "source": [
    "g.tail.value"
   ]
  },
  {
   "cell_type": "markdown",
   "id": "08be1750-01c5-49f2-9fb5-6a41270b16e9",
   "metadata": {},
   "source": [
    "********************************************************\n",
    "Leetcode Challenge - Middle of the Linked List\n",
    "Given the head of a singly linked list, return the middle node of the linked list.\n",
    "********************************************************\n",
    "\n",
    "If there are two middle nodes, return the second middle node.\n",
    "\n",
    "\n",
    "\n",
    "Example 1:\n",
    "\n",
    "\n",
    "\n",
    "Input: head = [1,2,3]\n",
    "1 => 2 => 3\n",
    " \n",
    "Output: [2]\n",
    "Explanation: The middle node of the list is node 2.\n",
    "\n",
    "\n",
    "\n",
    "\n",
    "Example 2:\n",
    "\n",
    "\n",
    "\n",
    "Input: head = [1,2,3,4]\n",
    "1 => 2 => 3 => 4\n",
    " \n",
    "Output: [3]\n",
    "Explanation: Since the list has two middle nodes with values 2 and 3, we return the second one."
   ]
  },
  {
   "cell_type": "code",
   "execution_count": 135,
   "id": "7aadddb7-563d-43b4-8cf7-7732393f1f24",
   "metadata": {},
   "outputs": [],
   "source": [
    "class SolutionLL:\n",
    "    def __init__(self,items):\n",
    "        self.llist=LinkedList()\n",
    "        for it in items:\n",
    "            self.llist.append(it)\n",
    "        self.llist.print()\n",
    "    def middleNode(self):\n",
    "        # Write your code here\n",
    "        head=self.llist.head\n",
    "        fast=slow=head\n",
    "        while fast and fast.next:\n",
    "            slow=slow.next\n",
    "            fast=fast.next.next\n",
    "        return slow\n",
    "        \n"
   ]
  },
  {
   "cell_type": "code",
   "execution_count": 138,
   "id": "69c9d62a-4bfa-4bf2-90a3-b8c254efd478",
   "metadata": {},
   "outputs": [
    {
     "name": "stdout",
     "output_type": "stream",
     "text": [
      "134\n",
      "3\n",
      "4\n",
      "5\n",
      "6\n",
      "-1\n",
      "12\n"
     ]
    }
   ],
   "source": [
    "S=SolutionLL([134,3,4,5,6,-1,12,])\n",
    "slow=S.middleNode()"
   ]
  },
  {
   "cell_type": "code",
   "execution_count": 139,
   "id": "4c264435-d2db-4cab-9cba-fb21d83be347",
   "metadata": {},
   "outputs": [
    {
     "data": {
      "text/plain": [
       "5"
      ]
     },
     "execution_count": 139,
     "metadata": {},
     "output_type": "execute_result"
    }
   ],
   "source": [
    "slow.value"
   ]
  },
  {
   "cell_type": "code",
   "execution_count": 143,
   "id": "c0d94dfe-7ceb-4031-b959-d99b6d121acf",
   "metadata": {},
   "outputs": [],
   "source": [
    "## Doubly Linked List\n",
    "class Node:\n",
    "    def __init__(self, data):\n",
    "        self.data = data\n",
    "        self.prev = None\n",
    "        self.next = None\n",
    "\n",
    "class DoublyLinkedList:\n",
    "    def __init__(self):\n",
    "        self.head = None\n",
    "        self.tail = None\n",
    "\n",
    "    def append(self, data):\n",
    "        new_node = Node(data)\n",
    "        if self.tail is None:\n",
    "            self.head = new_node\n",
    "            self.tail = new_node\n",
    "            return\n",
    "        self.tail.next = new_node\n",
    "        new_node.prev = self.tail\n",
    "        self.tail = new_node\n",
    "\n",
    "    def prepend(self, data):\n",
    "        new_node = Node(data)\n",
    "        if self.head is None:\n",
    "            self.head = new_node\n",
    "            self.tail = new_node\n",
    "            return\n",
    "        self.head.prev = new_node\n",
    "        new_node.next = self.head\n",
    "        self.head = new_node\n",
    "\n",
    "    def delete(self, key):\n",
    "        current_node = self.head\n",
    "        ##if we did not reach the tail\n",
    "        while current_node:\n",
    "            if current_node.data == key:\n",
    "                ## if current node is not the head , break a prev link and connect to current next\n",
    "                if current_node.prev:\n",
    "                    current_node.prev.next = current_node.next\n",
    "                else:  ## we are deleting the head node, so simply move the head forward\n",
    "                    self.head = current_node.next\n",
    "                ## now if we are not at the tail connect prev of next to prev    \n",
    "                if current_node.next:\n",
    "                    current_node.next.prev = current_node.prev\n",
    "                ## if we are at the tail then just move the tail backward\n",
    "                if current_node == self.tail:\n",
    "                    self.tail = current_node.prev\n",
    "                return\n",
    "            current_node = current_node.next\n",
    "\n",
    "    def print_list(self):\n",
    "        current_node = self.head\n",
    "        while current_node:\n",
    "            print(current_node.data, end=\"\\n\")\n",
    "            current_node = current_node.next\n",
    "        print()\n",
    "\n"
   ]
  },
  {
   "cell_type": "code",
   "execution_count": 144,
   "id": "e63ca7ed-b0df-4184-94fa-4b79e4072175",
   "metadata": {},
   "outputs": [],
   "source": [
    "D= DoublyLinkedList()"
   ]
  },
  {
   "cell_type": "code",
   "execution_count": 145,
   "id": "ec14895e-1409-4b12-8bf1-5d853e0a82c3",
   "metadata": {},
   "outputs": [
    {
     "name": "stdout",
     "output_type": "stream",
     "text": [
      "Kiwi\n",
      "Apple\n",
      "Banana\n",
      "\n"
     ]
    }
   ],
   "source": [
    "D.append(\"Apple\")\n",
    "D.append(\"Banana\")\n",
    "D.prepend(\"Kiwi\")\n",
    "D.print_list()"
   ]
  },
  {
   "cell_type": "code",
   "execution_count": 146,
   "id": "807409ef-bab6-4559-bc96-b1037dd8371c",
   "metadata": {},
   "outputs": [
    {
     "name": "stdout",
     "output_type": "stream",
     "text": [
      "Kiwi\n",
      "Apple\n",
      "\n"
     ]
    }
   ],
   "source": [
    "D.delete(\"Banana\")\n",
    "D.print_list()"
   ]
  },
  {
   "cell_type": "code",
   "execution_count": 148,
   "id": "d63c41b2-3187-4c88-8ecd-1849bfbdbdaf",
   "metadata": {},
   "outputs": [],
   "source": [
    "class Node:\n",
    "    def __init__(self, data):\n",
    "        self.data = data\n",
    "        self.prev = None\n",
    "        self.next = None\n",
    "\n",
    "\n",
    "class DoublyLinkedList:\n",
    "    def __init__(self):\n",
    "        self.head = None\n",
    "        self.tail = None\n",
    "\n",
    "    def append(self, data):\n",
    "        new_node = Node(data)\n",
    "        if self.tail is None:\n",
    "            self.head = new_node\n",
    "            self.tail = new_node\n",
    "            return\n",
    "        self.tail.next = new_node\n",
    "        new_node.prev = self.tail\n",
    "        self.tail = new_node\n",
    "\n",
    "    def prepend(self, data):\n",
    "        new_node = Node(data)\n",
    "        if self.head is None:\n",
    "            self.head = new_node\n",
    "            self.tail = new_node\n",
    "            return\n",
    "        self.head.prev = new_node\n",
    "        new_node.next = self.head\n",
    "        self.head = new_node\n",
    "\n",
    "    def delete(self, key):\n",
    "        current_node = self.head\n",
    "        while current_node:\n",
    "            if current_node.data == key:\n",
    "                if current_node.prev:\n",
    "                    current_node.prev.next = current_node.next\n",
    "                else:\n",
    "                    self.head = current_node.next\n",
    "                if current_node.next:\n",
    "                    current_node.next.prev = current_node.prev\n",
    "                if current_node == self.tail:\n",
    "                    self.tail = current_node.prev\n",
    "                return\n",
    "            current_node = current_node.next\n",
    "\n",
    "    def print_list(self):\n",
    "        current_node = self.head\n",
    "        while current_node:\n",
    "            print(current_node.data, end=\" \")\n",
    "            current_node = current_node.next\n",
    "        print()\n"
   ]
  },
  {
   "cell_type": "code",
   "execution_count": 150,
   "id": "66307d94-a035-450f-b5c8-b6d68cd1504a",
   "metadata": {},
   "outputs": [
    {
     "name": "stdout",
     "output_type": "stream",
     "text": [
      "[H] e l l o \n",
      "H [e] l l o \n",
      "H e [l] l o \n",
      "H [e] l l o \n"
     ]
    }
   ],
   "source": [
    "class CursorDLL(DoublyLinkedList):\n",
    "    def __init__(self):\n",
    "        super().__init__()\n",
    "        self.cursor = self.head   ## Cursor is pointer to a node initialized at the head\n",
    "\n",
    "    def move_cursor_forward(self):\n",
    "        if self.cursor is None or self.cursor.next is None:  ## it is not empty list or the cursor at the end so no where else to go\n",
    "            return\n",
    "        self.cursor = self.cursor.next\n",
    "\n",
    "    def move_cursor_backward(self):\n",
    "        if self.cursor is None or self.cursor.prev is None: ## either at beginning or cursor does not exist because of empty list\n",
    "            return\n",
    "        self.cursor = self.cursor.prev\n",
    "\n",
    "    def print_list_with_cursor(self):\n",
    "        current_node = self.head\n",
    "        while current_node:\n",
    "            if current_node == self.cursor:\n",
    "                print(\"[{}]\".format(current_node.data), end=\" \")\n",
    "            else:\n",
    "                print(current_node.data, end=\" \")\n",
    "            current_node = current_node.next\n",
    "        print()\n",
    "\n",
    "    def append(self, data):\n",
    "        super().append(data)\n",
    "        if self.cursor is None: #Checks if the cursor hasn’t been initialized yet (list was empty before this insert).\n",
    "            self.cursor = self.tail # put cursor at the tail\n",
    "\n",
    "    def prepend(self, data):\n",
    "        super().prepend(data)\n",
    "        if self.cursor is None: # Checks if the cursor hasn’t been initialized yet (list was empty before this insert).\n",
    "            self.cursor = self.head # put the cursor at the head\n",
    "\n",
    "\n",
    "cdll = CursorDLL()\n",
    "cdll.append('H')\n",
    "cdll.append('e')\n",
    "cdll.append('l')\n",
    "cdll.append('l')\n",
    "cdll.append('o')\n",
    "\n",
    "cdll.print_list_with_cursor()\n",
    "cdll.move_cursor_forward()\n",
    "cdll.print_list_with_cursor()\n",
    "cdll.move_cursor_forward()\n",
    "cdll.print_list_with_cursor()\n",
    "cdll.move_cursor_backward()\n",
    "cdll.print_list_with_cursor()\n"
   ]
  },
  {
   "cell_type": "code",
   "execution_count": null,
   "id": "c243992e-cb87-4c86-b922-69ffed684776",
   "metadata": {},
   "outputs": [],
   "source": []
  },
  {
   "cell_type": "code",
   "execution_count": 154,
   "id": "474c2dfc-7edf-46ce-966f-91876a0e691b",
   "metadata": {},
   "outputs": [
    {
     "name": "stdout",
     "output_type": "stream",
     "text": [
      "[H] \n",
      "[H] e \n",
      "H [e] \n"
     ]
    }
   ],
   "source": [
    "cdll = CursorDLL()\n",
    "cdll.append('H')\n",
    "cdll.move_cursor_forward()\n",
    "cdll.print_list_with_cursor()\n",
    "cdll.append('e')\n",
    "cdll.print_list_with_cursor()\n",
    "cdll.move_cursor_forward()\n",
    "cdll.print_list_with_cursor()\n"
   ]
  },
  {
   "cell_type": "code",
   "execution_count": null,
   "id": "c779d184-23af-4125-ab98-cc91cd770c0f",
   "metadata": {},
   "outputs": [],
   "source": []
  }
 ],
 "metadata": {
  "kernelspec": {
   "display_name": "Python 3 (ipykernel)",
   "language": "python",
   "name": "python3"
  },
  "language_info": {
   "codemirror_mode": {
    "name": "ipython",
    "version": 3
   },
   "file_extension": ".py",
   "mimetype": "text/x-python",
   "name": "python",
   "nbconvert_exporter": "python",
   "pygments_lexer": "ipython3",
   "version": "3.8.20"
  }
 },
 "nbformat": 4,
 "nbformat_minor": 5
}
