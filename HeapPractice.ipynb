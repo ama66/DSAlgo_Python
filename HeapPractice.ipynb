{
 "cells": [
  {
   "cell_type": "code",
   "execution_count": 35,
   "id": "c56386d6-51d3-4f7c-8927-8d41775cc011",
   "metadata": {},
   "outputs": [],
   "source": [
    "class MaxHeap:\n",
    "    def __init__(self):\n",
    "        self.heap = []\n",
    "\n",
    "    def _swap(self, i, j):\n",
    "        self.heap[i], self.heap[j] = self.heap[j], self.heap[i]\n",
    "\n",
    "    @staticmethod\n",
    "    def get_left_child(idx):  return 2*idx + 1\n",
    "    @staticmethod\n",
    "    def get_right_child(idx): return 2*idx + 2\n",
    "    @staticmethod\n",
    "    def get_parent(idx):      return (idx - 1) // 2\n",
    "\n",
    "    def insert(self, value):\n",
    "        self.heap.append(value)\n",
    "        self._heapify_up()\n",
    "\n",
    "    def _heapify_up(self):\n",
    "        idx = len(self.heap) - 1\n",
    "        while idx > 0:\n",
    "            p = self.get_parent(idx)\n",
    "            if self.heap[idx] > self.heap[p]:\n",
    "                self._swap(idx, p)\n",
    "                idx = p\n",
    "            else:\n",
    "                break\n",
    "\n",
    "    def pop(self):\n",
    "        if not self.heap:\n",
    "            return None\n",
    "        if len(self.heap) == 1:\n",
    "            return self.heap.pop()\n",
    "\n",
    "        max_val = self.heap[0]\n",
    "        # Move last to root and remove last\n",
    "        self.heap[0] = self.heap.pop()\n",
    "        self.heapify_down()\n",
    "        return max_val\n",
    "\n",
    "    def heapify_down(self):\n",
    "        n = len(self.heap)\n",
    "        idx = 0\n",
    "        while True:\n",
    "            left  = self.get_left_child(idx)\n",
    "            right = self.get_right_child(idx)\n",
    "            largest = idx\n",
    "\n",
    "            # Check bounds BEFORE accessing\n",
    "            if left < n and self.heap[left] > self.heap[largest]:\n",
    "                largest = left\n",
    "            if right < n and self.heap[right] > self.heap[largest]:\n",
    "                largest = right\n",
    "\n",
    "            if largest == idx:\n",
    "                break\n",
    "\n",
    "            self._swap(idx, largest)\n",
    "            idx = largest\n"
   ]
  },
  {
   "cell_type": "code",
   "execution_count": 36,
   "id": "74a70188-468a-4f8a-afb5-57ed815af4bb",
   "metadata": {},
   "outputs": [],
   "source": [
    "m=MaxHeap()\n",
    "m.insert(1)\n",
    "m.insert(8)\n",
    "m.insert(5)\n",
    "m.insert(4)"
   ]
  },
  {
   "cell_type": "code",
   "execution_count": 37,
   "id": "50467f9e-55e9-401c-9548-788288ceab0b",
   "metadata": {},
   "outputs": [
    {
     "data": {
      "text/plain": [
       "[8, 4, 5, 1]"
      ]
     },
     "execution_count": 37,
     "metadata": {},
     "output_type": "execute_result"
    }
   ],
   "source": [
    "m.heap"
   ]
  },
  {
   "cell_type": "code",
   "execution_count": 38,
   "id": "d324a08c-7927-4bc4-b4f6-cd343f770eec",
   "metadata": {},
   "outputs": [
    {
     "data": {
      "text/plain": [
       "8"
      ]
     },
     "execution_count": 38,
     "metadata": {},
     "output_type": "execute_result"
    }
   ],
   "source": [
    "m.pop()"
   ]
  },
  {
   "cell_type": "code",
   "execution_count": 39,
   "id": "e9dad38f-6b30-47fc-bd9f-5fceec912d28",
   "metadata": {},
   "outputs": [
    {
     "data": {
      "text/plain": [
       "[5, 4, 1]"
      ]
     },
     "execution_count": 39,
     "metadata": {},
     "output_type": "execute_result"
    }
   ],
   "source": [
    "m.heap"
   ]
  },
  {
   "cell_type": "code",
   "execution_count": 40,
   "id": "0e9a3a1a-04b6-40bb-a296-4abc7c76114c",
   "metadata": {},
   "outputs": [],
   "source": [
    "import heapq"
   ]
  },
  {
   "cell_type": "code",
   "execution_count": 46,
   "id": "609eeb4d-7698-4c46-9ba6-6c2ddb164898",
   "metadata": {},
   "outputs": [
    {
     "data": {
      "text/plain": [
       "[1, 5, 3]"
      ]
     },
     "execution_count": 46,
     "metadata": {},
     "output_type": "execute_result"
    }
   ],
   "source": [
    "\n",
    "h = []\n",
    "heapq.heappush(h, 5)\n",
    "heapq.heappush(h, 1)\n",
    "heapq.heappush(h, 3)\n",
    "\n",
    "h          # peek -> 1\n"
   ]
  },
  {
   "cell_type": "code",
   "execution_count": 47,
   "id": "3f1468ef-3cad-49eb-83fb-1a4b3a1cd330",
   "metadata": {},
   "outputs": [
    {
     "data": {
      "text/plain": [
       "1"
      ]
     },
     "execution_count": 47,
     "metadata": {},
     "output_type": "execute_result"
    }
   ],
   "source": [
    "heapq.heappop(h)  # -> 1 (smallest)\n"
   ]
  },
  {
   "cell_type": "code",
   "execution_count": 45,
   "id": "faf3cffc-0b5f-4024-86f0-155f5e6c14b4",
   "metadata": {},
   "outputs": [
    {
     "data": {
      "text/plain": [
       "[3, 5]"
      ]
     },
     "execution_count": 45,
     "metadata": {},
     "output_type": "execute_result"
    }
   ],
   "source": [
    "h"
   ]
  },
  {
   "cell_type": "code",
   "execution_count": 53,
   "id": "8ca4e90d-e4c5-4c54-b489-a09d89536ffc",
   "metadata": {},
   "outputs": [
    {
     "name": "stdout",
     "output_type": "stream",
     "text": [
      "[1, 3, 9, 7]\n"
     ]
    },
    {
     "data": {
      "text/plain": [
       "[2, 3, 9, 7]"
      ]
     },
     "execution_count": 53,
     "metadata": {},
     "output_type": "execute_result"
    }
   ],
   "source": [
    "import heapq\n",
    "\n",
    "data = [7, 3, 9, 1]\n",
    "heapq.heapify(data)     # in-place, O(n)\n",
    "print(data)\n",
    "heapq.heappushpop(data, 2)  # push 2 then pop smallest (efficient)\n",
    "\n",
    "data"
   ]
  },
  {
   "cell_type": "code",
   "execution_count": 56,
   "id": "98da6f91-ee2e-4f90-a733-78a6477792cd",
   "metadata": {},
   "outputs": [
    {
     "data": {
      "text/plain": [
       "3"
      ]
     },
     "execution_count": 56,
     "metadata": {},
     "output_type": "execute_result"
    }
   ],
   "source": [
    "## Find Kth largest element in the heap\n",
    "def kthlargest(data,k):\n",
    "    heapq.heapify(data)\n",
    "    while len(data)>k:\n",
    "        heapq.heappop(data)\n",
    "    return data[0]\n",
    "\n",
    "data=[2,3,4,7,9,10]\n",
    "kthlargest(data,5)"
   ]
  },
  {
   "cell_type": "code",
   "execution_count": 58,
   "id": "e46c3b9d-91a0-485e-a1bc-fb98cbcb003f",
   "metadata": {},
   "outputs": [],
   "source": [
    "class KthLargest:\n",
    "    def __init__(self, k, nums):\n",
    "        self.heap = nums\n",
    "        self.k = k\n",
    "        heapq.heapify(self.heap)\n",
    "        while len(self.heap) > k:\n",
    "            heapq.heappop(self.heap)\n",
    "\n",
    "    def add(self, val: int) -> int:\n",
    "        if len(self.heap) < self.k:\n",
    "            heapq.heappush(self.heap, val)\n",
    "        elif val > self.heap[0]:\n",
    "            heapq.heapreplace(self.heap, val)\n",
    "        return self.heap[0]"
   ]
  },
  {
   "cell_type": "code",
   "execution_count": 62,
   "id": "2b04b635-3b38-41a7-b63d-f5d65c0c292d",
   "metadata": {},
   "outputs": [
    {
     "data": {
      "text/plain": [
       "5"
      ]
     },
     "execution_count": 62,
     "metadata": {},
     "output_type": "execute_result"
    }
   ],
   "source": [
    "data=[2,3,4,7,9,10]\n",
    "C= KthLargest(4,data)\n",
    "C.add(5)\n"
   ]
  },
  {
   "cell_type": "code",
   "execution_count": 63,
   "id": "dfdbd3bf-9cbf-4c06-9dcd-d800a840b9ca",
   "metadata": {},
   "outputs": [
    {
     "data": {
      "text/plain": [
       "[5, 7, 9, 10]"
      ]
     },
     "execution_count": 63,
     "metadata": {},
     "output_type": "execute_result"
    }
   ],
   "source": [
    "C.heap"
   ]
  },
  {
   "cell_type": "code",
   "execution_count": null,
   "id": "70022fbb-5497-45fd-8249-25ed421319ce",
   "metadata": {},
   "outputs": [],
   "source": []
  }
 ],
 "metadata": {
  "kernelspec": {
   "display_name": "Python 3 (ipykernel)",
   "language": "python",
   "name": "python3"
  },
  "language_info": {
   "codemirror_mode": {
    "name": "ipython",
    "version": 3
   },
   "file_extension": ".py",
   "mimetype": "text/x-python",
   "name": "python",
   "nbconvert_exporter": "python",
   "pygments_lexer": "ipython3",
   "version": "3.8.20"
  }
 },
 "nbformat": 4,
 "nbformat_minor": 5
}
