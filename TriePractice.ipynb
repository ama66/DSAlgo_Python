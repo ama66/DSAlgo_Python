{
 "cells": [
  {
   "cell_type": "code",
   "execution_count": 39,
   "id": "aa1bd9e4-ee45-4e4b-92a7-151f4de69439",
   "metadata": {},
   "outputs": [],
   "source": [
    "class TrieNode:\n",
    "    def __init__(self):\n",
    "        self.children = {}\n",
    "        self.is_word = False   # properly store at node level\n",
    "    \n",
    "class Trie:\n",
    "    def __init__(self):\n",
    "        self.root = TrieNode()\n",
    "\n",
    "    def insert(self, word):\n",
    "        current = self.root\n",
    "        for w in word:\n",
    "            if w not in current.children:\n",
    "                current.children[w] = TrieNode()\n",
    "            current = current.children[w]\n",
    "        current.is_word = True   # mark end of word\n",
    "\n",
    "    def search(self, word):\n",
    "        current = self.root\n",
    "        for w in word:\n",
    "            if w not in current.children:\n",
    "                return False\n",
    "            current = current.children[w]\n",
    "        return current.is_word\n"
   ]
  },
  {
   "cell_type": "code",
   "execution_count": 40,
   "id": "b22cb79b-673e-4498-aad8-b264a7a9d4a7",
   "metadata": {},
   "outputs": [],
   "source": [
    "T=Trie()\n",
    "T.insert(\"Apple\")"
   ]
  },
  {
   "cell_type": "code",
   "execution_count": 41,
   "id": "b8259cda-f572-4505-8376-20c69eb9a2e4",
   "metadata": {},
   "outputs": [
    {
     "data": {
      "text/plain": [
       "True"
      ]
     },
     "execution_count": 41,
     "metadata": {},
     "output_type": "execute_result"
    }
   ],
   "source": [
    "T.root.children[\"A\"].children[\"p\"].children[\"p\"].children[\"l\"].children[\"e\"].is_word"
   ]
  },
  {
   "cell_type": "code",
   "execution_count": 42,
   "id": "c6d78122-19eb-4f87-affa-94f69f6efeed",
   "metadata": {},
   "outputs": [
    {
     "data": {
      "text/plain": [
       "True"
      ]
     },
     "execution_count": 42,
     "metadata": {},
     "output_type": "execute_result"
    }
   ],
   "source": [
    "T.search(\"Apple\")"
   ]
  },
  {
   "cell_type": "code",
   "execution_count": null,
   "id": "e68f48b3-a323-40b8-aaf5-81d463b2b686",
   "metadata": {},
   "outputs": [],
   "source": []
  }
 ],
 "metadata": {
  "kernelspec": {
   "display_name": "Python 3 (ipykernel)",
   "language": "python",
   "name": "python3"
  },
  "language_info": {
   "codemirror_mode": {
    "name": "ipython",
    "version": 3
   },
   "file_extension": ".py",
   "mimetype": "text/x-python",
   "name": "python",
   "nbconvert_exporter": "python",
   "pygments_lexer": "ipython3",
   "version": "3.8.20"
  }
 },
 "nbformat": 4,
 "nbformat_minor": 5
}
