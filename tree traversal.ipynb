{
 "cells": [
  {
   "cell_type": "code",
   "execution_count": 36,
   "id": "acf0a476-d82f-40a1-a984-f18afa560289",
   "metadata": {},
   "outputs": [],
   "source": [
    "class Node:\n",
    "    def __init__(self, value):\n",
    "        self.value = value\n",
    "        self.left = None\n",
    "        self.right = None\n",
    "\n",
    "\n",
    "class BinarySearchTree:\n",
    "    def __init__(self):\n",
    "        self.root = None\n",
    "\n",
    "    def insert(self, value):\n",
    "        if not self.root:\n",
    "            self.root = Node(value)\n",
    "            return\n",
    "\n",
    "        temp = self.root\n",
    "        while temp:\n",
    "            if value < temp.value:\n",
    "                if temp.left is None:\n",
    "                    temp.left = Node(value)\n",
    "                    return\n",
    "                else:\n",
    "                    temp = temp.left\n",
    "            elif value > temp.value:\n",
    "                if temp.right is None:\n",
    "                    temp.right = Node(value)\n",
    "                    return\n",
    "                else:\n",
    "                    temp = temp.right\n",
    "            else:\n",
    "                return\n",
    "\n",
    "    def search(self, value):\n",
    "        temp = self.root\n",
    "        while temp:\n",
    "            if value == temp.value:\n",
    "                return temp\n",
    "            elif value < temp.value:\n",
    "                temp = temp.left\n",
    "            else:\n",
    "                temp = temp.right\n",
    "        return None\n",
    "    @staticmethod\n",
    "    def inorder_traversal(node):\n",
    "    #\"\"\"Left -> Node -> Right\"\"\"\n",
    "        if node is not None:\n",
    "            inorder_traversal(node.left)\n",
    "            print(node.value, end=\" \")\n",
    "            inorder_traversal(node.right)\n",
    "    @staticmethod\n",
    "    def preorder_traversal(node):\n",
    "    #\"\"\"Left -> Node -> Right\"\"\"\n",
    "        if node is not None:\n",
    "            print(node.value, end=\" \")\n",
    "            inorder_traversal(node.left)\n",
    "            inorder_traversal(node.right)\n",
    "    @staticmethod\n",
    "    def postorder_traversal(node):\n",
    "    #\"\"\"Left -> Node -> Right\"\"\"\n",
    "        if node is not None:\n",
    "            inorder_traversal(node.left)\n",
    "            inorder_traversal(node.right)\n",
    "            print(node.value, end=\" \")\n",
    "            "
   ]
  },
  {
   "cell_type": "code",
   "execution_count": 37,
   "id": "84377cb0-153d-4031-87d8-3df3508bc70e",
   "metadata": {},
   "outputs": [],
   "source": [
    "BST=BinarySearchTree()\n",
    "L=[8,5,9,4,3,7,10]\n",
    "for e in L:\n",
    "    BST.insert(e)"
   ]
  },
  {
   "cell_type": "code",
   "execution_count": 38,
   "id": "3865e0a1-5894-448b-9264-f7dbc8c24b00",
   "metadata": {},
   "outputs": [
    {
     "name": "stdout",
     "output_type": "stream",
     "text": [
      "3 4 5 7 8 9 10 \n",
      "8 3 4 5 7 9 10 \n",
      "3 4 5 7 9 10 8 "
     ]
    }
   ],
   "source": [
    "BST.inorder_traversal(BST.root)\n",
    "print()\n",
    "BST.preorder_traversal(BST.root)\n",
    "print()\n",
    "BST.postorder_traversal(BST.root)"
   ]
  },
  {
   "cell_type": "markdown",
   "id": "093a5ac8-1bda-4e72-9fca-f9adf8dbd122",
   "metadata": {},
   "source": [
    "For the BST built from [8, 5, 9, 4, 3, 7, 10]:\n",
    "\n",
    "Inorder (L, N, R) → 3 4 5 7 8 9 10\n",
    "\n",
    "Preorder (N, L, R) → 8 5 4 3 7 9 10\n",
    "\n",
    "Postorder (L, R, N) → 3 4 7 5 10 9 8"
   ]
  },
  {
   "cell_type": "code",
   "execution_count": null,
   "id": "2795dcae-81a4-408b-9597-363cfa416cd2",
   "metadata": {},
   "outputs": [],
   "source": []
  }
 ],
 "metadata": {
  "kernelspec": {
   "display_name": "Python 3 (ipykernel)",
   "language": "python",
   "name": "python3"
  },
  "language_info": {
   "codemirror_mode": {
    "name": "ipython",
    "version": 3
   },
   "file_extension": ".py",
   "mimetype": "text/x-python",
   "name": "python",
   "nbconvert_exporter": "python",
   "pygments_lexer": "ipython3",
   "version": "3.8.20"
  }
 },
 "nbformat": 4,
 "nbformat_minor": 5
}
